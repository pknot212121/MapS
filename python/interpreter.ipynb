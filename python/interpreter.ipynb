{
 "cells": [
  {
   "cell_type": "code",
   "execution_count": 1,
   "metadata": {},
   "outputs": [],
   "source": [
    "from antlr4 import *\n",
    "from MapSLexer import MapSLexer\n",
    "from MapSParser import MapSParser\n",
    "from MapSVisitor import MapSVisitor"
   ]
  },
  {
   "cell_type": "code",
   "execution_count": null,
   "metadata": {},
   "outputs": [],
   "source": [
    "class MapInterpreter(MapSVisitor):\n",
    "    def visitListVariableDeclaration(self, ctx):\n",
    "        print(\"visitListVariableDeclaration\")    "
   ]
  },
  {
   "cell_type": "code",
   "execution_count": 7,
   "metadata": {},
   "outputs": [
    {
     "name": "stdout",
     "output_type": "stream",
     "text": [
      "visitListVariableDeclaration\n",
      "visitListVariableDeclaration\n"
     ]
    }
   ],
   "source": [
    "def main():\n",
    "    input_stream = FileStream(\"input.map\")\n",
    "    lexer = MapSLexer(input_stream)\n",
    "    stream = CommonTokenStream(lexer)\n",
    "    parser = MapSParser(stream)\n",
    "    tree = parser.program()  # Adjust according to your grammar's start rule\n",
    "\n",
    "    interpreter = MapInterpreter()\n",
    "    interpreter.visit(tree)\n",
    "\n",
    "if __name__ == \"__main__\":\n",
    "    main()"
   ]
  }
 ],
 "metadata": {
  "kernelspec": {
   "display_name": "Python 3",
   "language": "python",
   "name": "python3"
  },
  "language_info": {
   "codemirror_mode": {
    "name": "ipython",
    "version": 3
   },
   "file_extension": ".py",
   "mimetype": "text/x-python",
   "name": "python",
   "nbconvert_exporter": "python",
   "pygments_lexer": "ipython3",
   "version": "3.11.9"
  }
 },
 "nbformat": 4,
 "nbformat_minor": 2
}

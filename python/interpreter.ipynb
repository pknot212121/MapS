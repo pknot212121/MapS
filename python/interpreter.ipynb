{
 "cells": [
  {
   "cell_type": "code",
   "execution_count": 76,
   "metadata": {},
   "outputs": [],
   "source": [
    "from antlr4 import *\n",
    "from MapSLexer import MapSLexer\n",
    "from MapSParser import MapSParser\n",
    "from MapSVisitor import MapSVisitor\n",
    "import nbimporter\n",
    "from InterpreterContainers import InterpreterLand"
   ]
  },
  {
   "cell_type": "code",
   "execution_count": null,
   "metadata": {},
   "outputs": [],
   "source": [
    "class MapInterpreter(MapSVisitor):\n",
    "    def visitPointExpression(self, ctx:MapSParser.PointExpressionContext):\n",
    "        print(\"visitPointExpression\")\n",
    "        return self.visitChildren(ctx)\n",
    "    def visitListVariableDeclaration(self, ctx:MapSParser.ListVariableDeclarationContext):\n",
    "        print(\"visitListVariableDeclaration\")   \n",
    "        return self.visitChildren(ctx) \n",
    "    def visitLandVariableDeclaration(self, ctx:MapSParser.LandVariableDeclarationContext):     \n",
    "        print(\"visitLandVariableDeclaration\")\n",
    "        return self.visitChildren(ctx)\n",
    "    def visitIntExpr(self, ctx:MapSParser.IntExprContext):\n",
    "        print(\"visitIntExpr\")\n",
    "        return self.visitChildren(ctx)\n",
    "    def visitDoubleExpr(self, ctx:MapSParser.DoubleExprContext):\n",
    "        print(\"visitDoubleExpr\")\n",
    "        return self.visitChildren(ctx)\n",
    "    def visitAssignment(self, ctx:MapSParser.AssignmentContext):\n",
    "        print(\"visitAssignment\")\n",
    "        return self.visitChildren(ctx)\n",
    "    def visitVariableAssignment(self, ctx:MapSParser.VariableAssignmentContext):\n",
    "        print(\"visitVariableAssignment\")\n",
    "        return self.visitChildren(ctx)\n",
    "    def visitType(self, ctx:MapSParser.TypeContext):\n",
    "        print(\"visitType\")\n",
    "        return self.visitChildren(ctx)\n",
    "    def visitListExpression(self, ctx:MapSParser.ListExpressionContext):\n",
    "        print(\"visitListExpression\")\n",
    "        return self.visitChildren(ctx)\n",
    "    def visitHeightExpression(self, ctx:MapSParser.HeightExpressionContext):\n",
    "        print(\"visitHeightExpression\")\n",
    "        return self.visitChildren(ctx)\n",
    "    \n"
   ]
  },
  {
   "cell_type": "code",
   "execution_count": 83,
   "metadata": {},
   "outputs": [
    {
     "name": "stdout",
     "output_type": "stream",
     "text": [
      "visitPointExpression\n",
      "visitPointExpression\n",
      "visitPointExpression\n",
      "visitPointExpression\n",
      "visitPointExpression\n",
      "visitPointExpression\n",
      "visitPointExpression\n",
      "visitPointExpression\n",
      "visitPointExpression\n",
      "visitPointExpression\n",
      "visitPointExpression\n",
      "visitPointExpression\n",
      "visitPointExpression\n",
      "visitLandVariableDeclaration\n"
     ]
    }
   ],
   "source": [
    "def main():\n",
    "    input_stream = FileStream(\"input.map\")\n",
    "    lexer = MapSLexer(input_stream)\n",
    "    stream = CommonTokenStream(lexer)\n",
    "    parser = MapSParser(stream)\n",
    "    tree = parser.program()  # Adjust according to your grammar's start rule\n",
    "\n",
    "    interpreter = MapInterpreter()\n",
    "    interpreter.visit(tree)\n",
    "\n",
    "if __name__ == \"__main__\":\n",
    "    main()"
   ]
  },
  {
   "cell_type": "code",
   "execution_count": 11,
   "metadata": {},
   "outputs": [],
   "source": [
    "x = InterpreterLand(None, None, None, None)"
   ]
  }
 ],
 "metadata": {
  "kernelspec": {
   "display_name": "Python 3",
   "language": "python",
   "name": "python3"
  },
  "language_info": {
   "codemirror_mode": {
    "name": "ipython",
    "version": 3
   },
   "file_extension": ".py",
   "mimetype": "text/x-python",
   "name": "python",
   "nbconvert_exporter": "python",
   "pygments_lexer": "ipython3",
   "version": "3.11.9"
  }
 },
 "nbformat": 4,
 "nbformat_minor": 2
}
